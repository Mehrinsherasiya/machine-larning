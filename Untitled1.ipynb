{
 "cells": [
  {
   "cell_type": "code",
   "execution_count": 1,
   "id": "33dec5dd-75a4-43d7-877f-289704d2a02f",
   "metadata": {},
   "outputs": [
    {
     "data": {
      "application/vnd.jupyter.widget-view+json": {
       "model_id": "cc9f2fe8356a436baa84b6152301c5cf",
       "version_major": 2,
       "version_minor": 0
      },
      "text/plain": [
       "Downloading https://raw.githubusercontent.com/stanfordnlp/stanza-resources/main/resources_1.10.0.json:   0%|  …"
      ]
     },
     "metadata": {},
     "output_type": "display_data"
    },
    {
     "name": "stderr",
     "output_type": "stream",
     "text": [
      "2025-09-09 10:41:48 INFO: Downloaded file to C:\\Users\\atmiya\\stanza_resources\\resources.json\n",
      "2025-09-09 10:41:48 INFO: Downloading default packages for language: en (English) ...\n",
      "2025-09-09 10:41:50 INFO: File exists: C:\\Users\\atmiya\\stanza_resources\\en\\default.zip\n",
      "2025-09-09 10:41:53 INFO: Finished downloading models and saved to C:\\Users\\atmiya\\stanza_resources\n"
     ]
    }
   ],
   "source": [
    "#Lemmatization\n",
    "#pip  install stanza\n",
    "import stanza\n",
    "stanza.download('en')#Need to be done once."
   ]
  },
  {
   "cell_type": "code",
   "execution_count": 5,
   "id": "b6ed07ba-6102-41c2-a641-f32704131d6a",
   "metadata": {},
   "outputs": [
    {
     "name": "stderr",
     "output_type": "stream",
     "text": [
      "2025-09-09 10:51:20 INFO: Checking for updates to resources.json in case models have been updated.  Note: this behavior can be turned off with download_method=None or download_method=DownloadMethod.REUSE_RESOURCES\n"
     ]
    },
    {
     "data": {
      "application/vnd.jupyter.widget-view+json": {
       "model_id": "45464f258f014649adccfc76b7fb4d75",
       "version_major": 2,
       "version_minor": 0
      },
      "text/plain": [
       "Downloading https://raw.githubusercontent.com/stanfordnlp/stanza-resources/main/resources_1.10.0.json:   0%|  …"
      ]
     },
     "metadata": {},
     "output_type": "display_data"
    },
    {
     "name": "stderr",
     "output_type": "stream",
     "text": [
      "2025-09-09 10:51:20 INFO: Downloaded file to C:\\Users\\atmiya\\stanza_resources\\resources.json\n",
      "2025-09-09 10:51:20 INFO: Loading these models for language: en (English):\n",
      "=================================\n",
      "| Processor | Package           |\n",
      "---------------------------------\n",
      "| tokenize  | combined          |\n",
      "| mwt       | combined          |\n",
      "| pos       | combined_charlm   |\n",
      "| lemma     | combined_nocharlm |\n",
      "=================================\n",
      "\n",
      "2025-09-09 10:51:21 INFO: Using device: cpu\n",
      "2025-09-09 10:51:21 INFO: Loading: tokenize\n",
      "2025-09-09 10:51:21 INFO: Loading: mwt\n",
      "2025-09-09 10:51:21 INFO: Loading: pos\n",
      "2025-09-09 10:51:22 INFO: Loading: lemma\n",
      "2025-09-09 10:51:22 INFO: Done loading processors!\n"
     ]
    },
    {
     "name": "stdout",
     "output_type": "stream",
     "text": [
      "the --> the\n",
      "children --> child\n",
      "are --> be\n",
      "learning --> learn\n",
      "with --> with\n",
      "their --> their\n",
      "toys --> toy\n",
      "and --> and\n",
      "games --> game\n",
      "are --> be\n",
      "ongoing --> ongoing\n",
      ". --> .\n"
     ]
    }
   ],
   "source": [
    "#Lemmatization\n",
    "#pip  install stanza\n",
    "import stanza\n",
    "#Initializing the NLP pipeline\n",
    "nlp=stanza.Pipeline(lang='en',processors='tokenize,mwt,pos,lemma')\n",
    "#Input text\n",
    "text=\"the children are learning with their toys and games are ongoing.\"\n",
    "#Process the text\n",
    "doc=nlp(text)\n",
    "#Iterate over the text\n",
    "for sentence in doc.sentences:\n",
    "    for word in sentence.words:\n",
    "        print(word.text,'-->',word.lemma)"
   ]
  },
  {
   "cell_type": "code",
   "execution_count": 7,
   "id": "b3aeac9e-bc56-41ce-8439-efbb62227676",
   "metadata": {},
   "outputs": [
    {
     "name": "stderr",
     "output_type": "stream",
     "text": [
      "[nltk_data] Downloading package vader_lexicon to\n",
      "[nltk_data]     C:\\Users\\atmiya\\AppData\\Roaming\\nltk_data...\n",
      "[nltk_data]   Package vader_lexicon is already up-to-date!\n"
     ]
    },
    {
     "data": {
      "text/plain": [
       "True"
      ]
     },
     "execution_count": 7,
     "metadata": {},
     "output_type": "execute_result"
    }
   ],
   "source": [
    "#Sentiment analtsis\n",
    "import nltk\n",
    "nltk.download('vader_lexicon')#Required to be done once"
   ]
  },
  {
   "cell_type": "code",
   "execution_count": 12,
   "id": "9948e383-9a71-41ce-9f5e-fa6f6d7535e8",
   "metadata": {},
   "outputs": [
    {
     "name": "stdout",
     "output_type": "stream",
     "text": [
      "I love this product!,it's amazing. --> {'neg': 0.0, 'neu': 0.194, 'pos': 0.806, 'compound': 0.8516}\n",
      "this is the worst product,i have ever seen. --> {'neg': 0.369, 'neu': 0.631, 'pos': 0.0, 'compound': -0.6249}\n",
      "this product is okay,not great but not bad either. --> {'neg': 0.0, 'neu': 0.525, 'pos': 0.475, 'compound': 0.745}\n"
     ]
    }
   ],
   "source": [
    "#Sentiment analtsis\n",
    "from nltk.sentiment.vader import SentimentIntensityAnalyzer\n",
    "import nltk\n",
    "#Initializing the analyzer\n",
    "analyzer=SentimentIntensityAnalyzer()#This line creates an object of the class SentimentIntensityAnalyzer,\n",
    "                                     #and it load the VADER dentiment lexicons(dictionar of ~7,500 words,emojis,emoticons,acronyms,\n",
    "                                     #pre-assigned sentiment score.\n",
    "#Input sentences\n",
    "sentences=[\n",
    "    \"I love this product!,it's amazing.\",\n",
    "    \"this is the worst product,i have ever seen.\",\n",
    "    \"this product is okay,not great but not bad either.\"\n",
    "]\n",
    "for text in sentences:\n",
    "    scores=analyzer.polarity_scores(text)#it will tell how much the word is positive,negative or netural.\n",
    "    print(text,'-->',scores)"
   ]
  },
  {
   "cell_type": "code",
   "execution_count": 14,
   "id": "961b8f15-a3d7-4b4e-bf19-c344398aabbc",
   "metadata": {},
   "outputs": [
    {
     "data": {
      "text/plain": [
       "Text(76.09722222222221, 0.5, 'Amplitude')"
      ]
     },
     "execution_count": 14,
     "metadata": {},
     "output_type": "execute_result"
    },
    {
     "data": {
      "image/png": "[encoded data removed]",
      "text/plain": [
       "<Figure size 1000x400 with 1 Axes>"
      ]
     },
     "metadata": {},
     "output_type": "display_data"
    }
   ],
   "source": [
    "#Reading and plotting the audio waves\n",
    "#pip install librosa\n",
    "import librosa\n",
    "import librosa.display\n",
    "import matplotlib.pyplot as plt\n",
    "#Load an audio file \n",
    "audio_file='sample.wav'\n",
    "y,sr=librosa.load(audio_file)\n",
    "#Plot the waves\n",
    "plt.figure(figsize=(10,4))\n",
    "librosa.display.waveshow(y,sr=sr)\n",
    "plt.title('Audio wavefoem')\n",
    "plt.xlabel('Time in seconds')\n",
    "plt.ylabel('Amplitude')"
   ]
  },
  {
   "cell_type": "code",
   "execution_count": null,
   "id": "768f7c2f-97bf-4ddc-be97-a711b1f9af68",
   "metadata": {},
   "outputs": [],
   "source": []
  }
 ],
 "metadata": {
  "kernelspec": {
   "display_name": "Python 3 (ipykernel)",
   "language": "python",
   "name": "python3"
  },
  "language_info": {
   "codemirror_mode": {
    "name": "ipython",
    "version": 3
   },
   "file_extension": ".py",
   "mimetype": "text/x-python",
   "name": "python",
   "nbconvert_exporter": "python",
   "pygments_lexer": "ipython3",
   "version": "3.10.2"
  }
 },
 "nbformat": 4,
 "nbformat_minor": 5
}
